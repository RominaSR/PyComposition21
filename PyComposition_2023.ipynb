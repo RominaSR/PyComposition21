{
  "nbformat": 4,
  "nbformat_minor": 0,
  "metadata": {
    "colab": {
      "provenance": [],
      "authorship_tag": "ABX9TyPgA5EHPvUJx32VF32kI8SZ",
      "include_colab_link": true
    },
    "kernelspec": {
      "name": "python3",
      "display_name": "Python 3"
    },
    "language_info": {
      "name": "python"
    }
  },
  "cells": [
    {
      "cell_type": "markdown",
      "metadata": {
        "id": "view-in-github",
        "colab_type": "text"
      },
      "source": [
        "<a href=\"https://colab.research.google.com/github/RominaSR/PyComposition21/blob/main/PyComposition_2023.ipynb\" target=\"_parent\"><img src=\"https://colab.research.google.com/assets/colab-badge.svg\" alt=\"Open In Colab\"/></a>"
      ]
    },
    {
      "cell_type": "code",
      "execution_count": 1,
      "metadata": {
        "id": "BULZGZV_R_wK"
      },
      "outputs": [],
      "source": [
        "#Importing libraries\n",
        "import time\n",
        "import json\n",
        "import pandas\n",
        "import random \n",
        "import pandas as pd\n",
        "\n",
        "from music21.musicxml.m21ToXml import ScoreExporter\n",
        "from music21.converter.subConverters import ConverterMusicXML\n",
        "from music21 import *\n",
        "from music21.pitch import Pitch, Microtone\n",
        "from collections import Counter\n",
        "from itertools import zip_longest\n",
        "\n",
        "%matplotlib inline"
      ]
    },
    {
      "cell_type": "code",
      "source": [
        "with open(\"datanice.json\") as json_file:\n",
        "    data = json.load(json_file)\n",
        "    for i in data['hourly']:\n",
        "        thistemp = (i['temp'])\n",
        "        thishumidity = (i['humidity'])\n",
        "        thiswindgust = (i['wind_gust'])\n",
        "        thisdewpoint = (i['dew_point'])\n",
        "        thiswinddeg = [(i['wind_deg'])]\n",
        "        thiswindgust = (i['uvi'])\n",
        "\n",
        "#Getting hourly data from the json file        \n",
        "with open(\"datanice.json\") as json_file:\n",
        "    data = json.load(json_file)\n",
        "    hourlydata = (data['hourly']) \n",
        "\n",
        "\n",
        "#Getting maximum values            \n",
        "    maxtemp = max(item['temp'] for item in hourlydata)\n",
        "    maxhumidity = max(item['humidity'] for item in hourlydata)\n",
        "    maxwind_gust = max(item['wind_gust'] for item in hourlydata)\n",
        "    maxdew_point = max(item['dew_point'] for item in hourlydata) \n",
        "    maxwind_deg = max(item['wind_deg'] for item in hourlydata)\n",
        "    maxuvi = max(item['uvi'] for item in hourlydata)     \n",
        "\n",
        "#Getting minimum values\n",
        "    mintemp = min(item['temp'] for item in hourlydata)\n",
        "    minhumidity = min(item['humidity'] for item in hourlydata)\n",
        "    minwind_gust = min(item['wind_gust'] for item in hourlydata)\n",
        "    mindew_point = min(item['dew_point'] for item in hourlydata) \n",
        "    minwind_deg = min(item['wind_deg'] for item in hourlydata)\n",
        "    minuvi = min(item['uvi'] for item in hourlydata)  \n",
        "    \n",
        "    \n",
        "\n",
        "with open(\"datanice.json\") as json_file:\n",
        "    data = json.load(json_file)\n",
        "    hourlydata = (data['hourly'])\n",
        "    \n",
        "    allparameters = []\n",
        "    for parameter in hourlydata:\n",
        "        allparameters.append(parameter['temp'])\n",
        "        allparameters.append(parameter['humidity'])\n",
        "        allparameters.append(parameter['wind_gust'])\n",
        "        allparameters.append(parameter['dew_point'])\n",
        "        allparameters.append(parameter['wind_deg'])\n",
        "        allparameters.append(parameter['uvi'])        \n",
        "    \n",
        "#Getting max and min of all parameters   \n",
        "    MaxMaxAll = max(allparameters)\n",
        "    MinMinAll = min(allparameters)\n",
        "    \n",
        "    newMaxPitch = 72\n",
        "    newMinPitch = 36\n",
        "\n",
        "    newMaxDuration = 12\n",
        "    newMinDuration = 0\n",
        "        \n",
        "#Scale values\n",
        "\n",
        "    scaleAllPitches = []\n",
        "    for itemP in allparameters:\n",
        "        neoMaxP = (itemP - MinMinAll) / (MaxMaxAll - MinMinAll) * (newMaxPitch  - newMinPitch) + newMinPitch\n",
        "        scaleAllPitches.append(neoMaxP)\n",
        "        \n",
        "    scaleAllDurations = []\n",
        "    for itemD in allparameters:\n",
        "        neoMaxD = (itemD - MinMinAll) / (MaxMaxAll - MinMinAll) * (newMaxDuration  - newMinDuration) + newMinDuration\n",
        "        scaleAllDurations.append(neoMaxD)\n",
        "        \n",
        "#print(scaleAllPitches)\n",
        "#print(scaleAllDurations)"
      ],
      "metadata": {
        "colab": {
          "base_uri": "https://localhost:8080/",
          "height": 232
        },
        "id": "AUO5OsKuSLht",
        "outputId": "1bfa6ae5-391b-4967-e4d9-e27a7cd7cc5d"
      },
      "execution_count": 3,
      "outputs": [
        {
          "output_type": "error",
          "ename": "FileNotFoundError",
          "evalue": "ignored",
          "traceback": [
            "\u001b[0;31m---------------------------------------------------------------------------\u001b[0m",
            "\u001b[0;31mFileNotFoundError\u001b[0m                         Traceback (most recent call last)",
            "\u001b[0;32m<ipython-input-3-a5e4e527c905>\u001b[0m in \u001b[0;36m<cell line: 1>\u001b[0;34m()\u001b[0m\n\u001b[0;32m----> 1\u001b[0;31m \u001b[0;32mwith\u001b[0m \u001b[0mopen\u001b[0m\u001b[0;34m(\u001b[0m\u001b[0;34m\"datanice.json\"\u001b[0m\u001b[0;34m)\u001b[0m \u001b[0;32mas\u001b[0m \u001b[0mjson_file\u001b[0m\u001b[0;34m:\u001b[0m\u001b[0;34m\u001b[0m\u001b[0;34m\u001b[0m\u001b[0m\n\u001b[0m\u001b[1;32m      2\u001b[0m     \u001b[0mdata\u001b[0m \u001b[0;34m=\u001b[0m \u001b[0mjson\u001b[0m\u001b[0;34m.\u001b[0m\u001b[0mload\u001b[0m\u001b[0;34m(\u001b[0m\u001b[0mjson_file\u001b[0m\u001b[0;34m)\u001b[0m\u001b[0;34m\u001b[0m\u001b[0;34m\u001b[0m\u001b[0m\n\u001b[1;32m      3\u001b[0m     \u001b[0;32mfor\u001b[0m \u001b[0mi\u001b[0m \u001b[0;32min\u001b[0m \u001b[0mdata\u001b[0m\u001b[0;34m[\u001b[0m\u001b[0;34m'hourly'\u001b[0m\u001b[0;34m]\u001b[0m\u001b[0;34m:\u001b[0m\u001b[0;34m\u001b[0m\u001b[0;34m\u001b[0m\u001b[0m\n\u001b[1;32m      4\u001b[0m         \u001b[0mthistemp\u001b[0m \u001b[0;34m=\u001b[0m \u001b[0;34m(\u001b[0m\u001b[0mi\u001b[0m\u001b[0;34m[\u001b[0m\u001b[0;34m'temp'\u001b[0m\u001b[0;34m]\u001b[0m\u001b[0;34m)\u001b[0m\u001b[0;34m\u001b[0m\u001b[0;34m\u001b[0m\u001b[0m\n\u001b[1;32m      5\u001b[0m         \u001b[0mthishumidity\u001b[0m \u001b[0;34m=\u001b[0m \u001b[0;34m(\u001b[0m\u001b[0mi\u001b[0m\u001b[0;34m[\u001b[0m\u001b[0;34m'humidity'\u001b[0m\u001b[0;34m]\u001b[0m\u001b[0;34m)\u001b[0m\u001b[0;34m\u001b[0m\u001b[0;34m\u001b[0m\u001b[0m\n",
            "\u001b[0;31mFileNotFoundError\u001b[0m: [Errno 2] No such file or directory: 'datanice.json'"
          ]
        }
      ]
    },
    {
      "cell_type": "code",
      "source": [],
      "metadata": {
        "id": "3N5VHBWLSPC9"
      },
      "execution_count": null,
      "outputs": []
    }
  ]
}